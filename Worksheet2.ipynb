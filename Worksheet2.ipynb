{
  "nbformat": 4,
  "nbformat_minor": 0,
  "metadata": {
    "colab": {
      "provenance": []
    },
    "kernelspec": {
      "name": "python3",
      "display_name": "Python 3"
    },
    "language_info": {
      "name": "python"
    }
  },
  "cells": [
    {
      "cell_type": "markdown",
      "source": [
        " Problem 1- Data Read, Write and Inspect:\n",
        " Complete all following Task:\n",
        " • Dataset for the Task: \"bank.csv\"\n",
        " 1. Load the provided dataset and import in pandas DataFrame.\n",
        " 2. Check info of the DataFrame and identify following:\n",
        " (a) columns with dtypes=object\n",
        " (b) unique values of those columns.\n",
        " (c) check for the total number of null values in each column.\n",
        " 3. Drop all the columns with dtypes object and store in new DataFrame, also write the DataFrame in\n",
        " ”.csv” with name ”banknumericdata.csv”\n",
        " 4. Read ”banknumericdata.csv” and Find the summary statistics.\n"
      ],
      "metadata": {
        "id": "8qWlxdcc0GqC"
      }
    },
    {
      "cell_type": "code",
      "source": [
        "import pandas as pd\n",
        "\n",
        "dataset = pd.read_csv('/content/drive/MyDrive/Copy of bank .csv')\n",
        "df = pd.DataFrame(dataset)\n",
        "# df.info()\n",
        "\n",
        "object_columns = df.select_dtypes(include=['object']).columns\n",
        "print(\"Columns with dtype = object are \\n \", object_columns)\n",
        "\n",
        "unique_values = df[object_columns].nunique()\n",
        "print(\"Unique values of object columns:\")\n",
        "print(unique_values)\n",
        "\n",
        "df_without_dtypeobjects = df.select_dtypes(exclude=['object'])\n",
        "df_without_dtypeobjects.to_csv('banknumericdata.csv', index=False)\n",
        "\n",
        "df_without_dtypeobjects\n",
        "\n",
        "# 4. Read \"banknumericdata.csv\" and find the summary statistics\n",
        "df_numeric_read = pd.read_csv('banknumericdata.csv')\n",
        "summary = df_numeric_read.describe()\n",
        "print(\"\\nSummary statistics:\\n\")\n",
        "print(summary)"
      ],
      "metadata": {
        "colab": {
          "base_uri": "https://localhost:8080/"
        },
        "id": "9D9kNIKC01Tf",
        "outputId": "12c6c88d-e108-4508-da37-f678308fbcec"
      },
      "execution_count": 61,
      "outputs": [
        {
          "output_type": "stream",
          "name": "stdout",
          "text": [
            "Columns with dtype = object are \n",
            "  Index(['job', 'marital', 'education', 'default', 'housing', 'loan', 'contact',\n",
            "       'month', 'poutcome', 'y'],\n",
            "      dtype='object')\n",
            "Unique values of object columns:\n",
            "job          12\n",
            "marital       3\n",
            "education     4\n",
            "default       2\n",
            "housing       2\n",
            "loan          2\n",
            "contact       3\n",
            "month        12\n",
            "poutcome      4\n",
            "y             2\n",
            "dtype: int64\n",
            "\n",
            "Summary statistics:\n",
            "\n",
            "                age        balance           day      duration      campaign  \\\n",
            "count  45211.000000   45211.000000  45211.000000  45211.000000  45211.000000   \n",
            "mean      40.936210    1362.272058     15.806419    258.163080      2.763841   \n",
            "std       10.618762    3044.765829      8.322476    257.527812      3.098021   \n",
            "min       18.000000   -8019.000000      1.000000      0.000000      1.000000   \n",
            "25%       33.000000      72.000000      8.000000    103.000000      1.000000   \n",
            "50%       39.000000     448.000000     16.000000    180.000000      2.000000   \n",
            "75%       48.000000    1428.000000     21.000000    319.000000      3.000000   \n",
            "max       95.000000  102127.000000     31.000000   4918.000000     63.000000   \n",
            "\n",
            "              pdays      previous  \n",
            "count  45211.000000  45211.000000  \n",
            "mean      40.197828      0.580323  \n",
            "std      100.128746      2.303441  \n",
            "min       -1.000000      0.000000  \n",
            "25%       -1.000000      0.000000  \n",
            "50%       -1.000000      0.000000  \n",
            "75%       -1.000000      0.000000  \n",
            "max      871.000000    275.000000  \n"
          ]
        }
      ]
    },
    {
      "cell_type": "markdown",
      "source": [
        "Problem 2 - Data Imputations:\n",
        "Complete all the following Task:\n",
        "• Dataset for the Task: \"medical_student.csv\"\n",
        "1. Load the provided dataset and import in pandas DataFrame.\n",
        "2. Check info of the DataFrame and identify column with missing (null) values.\n",
        "3. For the column with missing values fill the values using various techniques we discussed above. Try\n",
        "to explain why did you select the particular methods for particular column.\n",
        "4. Check for any duplicate values present in Dataset and do necessary to manage the duplicate items.\n",
        "{Hint: dataset.duplicated.sum()}"
      ],
      "metadata": {
        "id": "ImeX9FLU6WV7"
      }
    },
    {
      "cell_type": "code",
      "source": [
        "import pandas as pd\n",
        "\n",
        "dataset = pd.read_csv('/content/drive/MyDrive/Copy of medical_students_dataset.csv')\n",
        "df = pd.DataFrame(dataset)\n",
        "df\n",
        "# check info of the DataFrame and identify column with missing (null) values.\n",
        "# print(iris_df.isnull().sum())\n",
        "df.info()\n",
        "print(\"Missing values in data set :\")\n",
        "print(df.isnull().sum())\n",
        "\n",
        "# make copy of DataFrame for filling missing values\n",
        "filled_df = df.copy()\n",
        "\n",
        "# Fill numerical columns with the mean\n",
        "numerical_columns = ['Student ID', 'Age', 'Height', 'Weight', 'BMI', 'Temperature',\n",
        "                     'Heart Rate', 'Blood Pressure', 'Cholesterol']\n",
        "filled_df[numerical_columns] = filled_df[numerical_columns].fillna(filled_df[numerical_columns].mean())\n",
        "\n",
        "# Fill categorical columns with the mode\n",
        "categorical_columns = ['Gender', 'Blood Type', 'Diabetes', 'Smoking']\n",
        "for column in categorical_columns:\n",
        "    filled_df[column] = filled_df[column].fillna(filled_df[column].mode()[0])\n",
        "\n",
        "# Verify if there are still missing values\n",
        "remaining_missing_values = filled_df.isnull().sum()\n",
        "\n",
        "# Display the head of the filled DataFrame and remaining missing values\n",
        "print(filled_df.head())\n",
        "\n",
        "print(\"Duplicate values :\")\n",
        "filled_df.duplicated().sum()\n",
        "print(filled_df.duplicated())\n",
        "print(\"Duplicate values sum:\")\n",
        "print(filled_df.duplicated().sum())"
      ],
      "metadata": {
        "id": "w-D__tTW6XkQ",
        "colab": {
          "base_uri": "https://localhost:8080/"
        },
        "outputId": "ab556f6d-7432-44c7-ab68-8c994ac71c54"
      },
      "execution_count": 21,
      "outputs": [
        {
          "output_type": "stream",
          "name": "stdout",
          "text": [
            "<class 'pandas.core.frame.DataFrame'>\n",
            "RangeIndex: 200000 entries, 0 to 199999\n",
            "Data columns (total 13 columns):\n",
            " #   Column          Non-Null Count   Dtype  \n",
            "---  ------          --------------   -----  \n",
            " 0   Student ID      180000 non-null  float64\n",
            " 1   Age             180000 non-null  float64\n",
            " 2   Gender          180000 non-null  object \n",
            " 3   Height          180000 non-null  float64\n",
            " 4   Weight          180000 non-null  float64\n",
            " 5   Blood Type      180000 non-null  object \n",
            " 6   BMI             180000 non-null  float64\n",
            " 7   Temperature     180000 non-null  float64\n",
            " 8   Heart Rate      180000 non-null  float64\n",
            " 9   Blood Pressure  180000 non-null  float64\n",
            " 10  Cholesterol     180000 non-null  float64\n",
            " 11  Diabetes        180000 non-null  object \n",
            " 12  Smoking         180000 non-null  object \n",
            "dtypes: float64(9), object(4)\n",
            "memory usage: 19.8+ MB\n",
            "Missing values in data set :\n",
            "Student ID        20000\n",
            "Age               20000\n",
            "Gender            20000\n",
            "Height            20000\n",
            "Weight            20000\n",
            "Blood Type        20000\n",
            "BMI               20000\n",
            "Temperature       20000\n",
            "Heart Rate        20000\n",
            "Blood Pressure    20000\n",
            "Cholesterol       20000\n",
            "Diabetes          20000\n",
            "Smoking           20000\n",
            "dtype: int64\n",
            "     Student ID        Age  Gender      Height     Weight Blood Type  \\\n",
            "0      1.000000  18.000000  Female  161.777924  72.354947          O   \n",
            "1      2.000000  26.021561    Male  152.069157  47.630941          B   \n",
            "2      3.000000  32.000000  Female  182.537664  55.741083          A   \n",
            "3  49974.042078  30.000000    Male  182.112867  63.332207          B   \n",
            "4      5.000000  23.000000  Female  174.947103  46.234173          O   \n",
            "\n",
            "         BMI  Temperature  Heart Rate  Blood Pressure  Cholesterol Diabetes  \\\n",
            "0  27.645835    98.600948        95.0      109.000000        203.0       No   \n",
            "1  23.338869    98.714977        93.0      104.000000        163.0       No   \n",
            "2  16.729017    98.260293        76.0      130.000000        216.0      Yes   \n",
            "3  19.096042    98.839605        99.0      112.000000        141.0       No   \n",
            "4  23.338869    98.480008        95.0      114.558033        231.0       No   \n",
            "\n",
            "  Smoking  \n",
            "0      No  \n",
            "1      No  \n",
            "2      No  \n",
            "3     Yes  \n",
            "4      No  \n",
            "Duplicate values :\n",
            "0         False\n",
            "1         False\n",
            "2         False\n",
            "3         False\n",
            "4         False\n",
            "          ...  \n",
            "199995    False\n",
            "199996    False\n",
            "199997    False\n",
            "199998    False\n",
            "199999    False\n",
            "Length: 200000, dtype: bool\n",
            "Duplicate values sum:\n",
            "12572\n"
          ]
        }
      ]
    },
    {
      "cell_type": "markdown",
      "source": [
        "Here mean is used for numeric data like student id age height weight BMi tempreatture heart rate cholestrol  because there is harldy any possiblity of outliers in these types of data since they are consistent characteristics of data.   \n",
        "\n",
        "Also mode is used in data like gender blood type diabetes and cholestrol because they are categorized mostly on the basis of often occuring or common values.\n"
      ],
      "metadata": {
        "id": "iiLpogheEMUf"
      }
    },
    {
      "cell_type": "markdown",
      "source": [
        "Problem - 1:\n",
        "Create a DataFrame that is subsetted for the columns ’Name’, ’Pclass’, ’Sex’, ’Age’, ’Fare’, and ’Survived’.\n",
        "Retain only those rows where ’Pclass’ is equal to 1, representing first-class passengers. What is the mean,\n",
        "median, maximum value, and minimum value of the ’Fare’ column?\n"
      ],
      "metadata": {
        "id": "REYTnxooGFFd"
      }
    },
    {
      "cell_type": "code",
      "source": [
        "import pandas as pd\n",
        "\n",
        "dataset = pd.read_csv('/content/drive/MyDrive/Copy of Titanic-Dataset.csv')\n",
        "df = pd.DataFrame(dataset)\n",
        "\n",
        "# Subset the DataFrame for specific columns\n",
        "subset_df = df[['Name', 'Pclass', 'Sex', 'Age', 'Fare', 'Survived']]\n",
        "\n",
        "# Retain only rows where 'Pclass' == 1\n",
        "first_class_df = subset_df[subset_df['Pclass'] == 1]\n",
        "\n",
        "# Calculate statistics for the 'Fare' column\n",
        "mean_fare = first_class_df['Fare'].mean()\n",
        "print(\"Mean fare :\",mean_fare)\n",
        "median_fare = first_class_df['Fare'].median()\n",
        "print(\"Median fare\",median_fare)\n",
        "max_fare = first_class_df['Fare'].max()\n",
        "print(\"Max fare\", max_fare)\n",
        "min_fare = first_class_df['Fare'].min()\n",
        "print(\"Min fare\",min_fare)"
      ],
      "metadata": {
        "colab": {
          "base_uri": "https://localhost:8080/"
        },
        "id": "3e2kyoJvGEjM",
        "outputId": "d65fc45c-4dfd-4de5-d74b-a05dd7df3142"
      },
      "execution_count": 28,
      "outputs": [
        {
          "output_type": "stream",
          "name": "stdout",
          "text": [
            "Mean fare : 84.1546875\n",
            "Median fare 60.287499999999994\n",
            "Max fare 512.3292\n",
            "Min fare 0.0\n"
          ]
        }
      ]
    },
    {
      "cell_type": "markdown",
      "source": [
        "2. How many null values are contained in the ’Age’ column in your subsetted DataFrame? Once you’ve found\n",
        "this out, drop them from your DataFrame."
      ],
      "metadata": {
        "id": "oFYrXvZbHTmQ"
      }
    },
    {
      "cell_type": "code",
      "source": [
        "# Count null values in the 'Age' column\n",
        "null_age_count = first_class_df['Age'].isnull().sum()\n",
        "print(f\"Number of null values in 'Age': {null_age_count}\")\n",
        "\n",
        "# Drop rows with null values in the 'Age' column\n",
        "first_class_df_dropped = first_class_df.dropna(subset=['Age'])\n",
        "\n",
        "# Verify that the null values are dropped\n",
        "print(f\"Number of null values in 'Age' after dropping: {first_class_df_dropped['Age'].isnull().sum()}\")\n"
      ],
      "metadata": {
        "colab": {
          "base_uri": "https://localhost:8080/"
        },
        "id": "lKRZMae-HVgJ",
        "outputId": "db92c8bf-a3da-4a82-efd8-057fbbbd21cc"
      },
      "execution_count": 29,
      "outputs": [
        {
          "output_type": "stream",
          "name": "stdout",
          "text": [
            "Number of null values in 'Age': 30\n",
            "Number of null values in 'Age' after dropping: 0\n"
          ]
        }
      ]
    },
    {
      "cell_type": "markdown",
      "source": [
        "Problem - 3:\n",
        "\n",
        "The ’Embarked’ column in the Titanic dataset contains categorical data representing the ports of embarka-tion:\n",
        "\n",
        "• ’C’ for Cherbourg\n",
        "• ’Q’ for Queenstown\n",
        "• ’S’ for Southampton"
      ],
      "metadata": {
        "id": "t9XbE-g8Hjjp"
      }
    },
    {
      "cell_type": "code",
      "source": [
        "# Check for unique values and count of missing values in the 'Embarked' column\n",
        "embarked_values = df['Embarked'].value_counts(dropna=False)\n",
        "print(\"Embarked column value counts including missing values:\")\n",
        "print(embarked_values)\n",
        "\n",
        "# Mapping the categorical data to their corresponding ports of embarkation\n",
        "embarked_mapping = {\n",
        "    'C': 'Cherbourg',\n",
        "    'Q': 'Queenstown',\n",
        "    'S': 'Southampton'\n",
        "}\n",
        "\n",
        "# Replace the values in the 'Embarked' column with the mapped values\n",
        "df['Embarked'] = df['Embarked'].map(embarked_mapping)\n",
        "\n",
        "# Verify the changes\n",
        "print(\"\\nMapped 'Embarked' column values:\")\n",
        "print(df['Embarked'].value_counts(dropna=False))\n"
      ],
      "metadata": {
        "colab": {
          "base_uri": "https://localhost:8080/"
        },
        "id": "wrLiJo29H5-6",
        "outputId": "49568075-43b6-487c-84f4-614c30aeddf5"
      },
      "execution_count": 30,
      "outputs": [
        {
          "output_type": "stream",
          "name": "stdout",
          "text": [
            "Embarked column value counts including missing values:\n",
            "Embarked\n",
            "S      644\n",
            "C      168\n",
            "Q       77\n",
            "NaN      2\n",
            "Name: count, dtype: int64\n",
            "\n",
            "Mapped 'Embarked' column values:\n",
            "Embarked\n",
            "Southampton    644\n",
            "Cherbourg      168\n",
            "Queenstown      77\n",
            "NaN              2\n",
            "Name: count, dtype: int64\n"
          ]
        }
      ]
    },
    {
      "cell_type": "markdown",
      "source": [
        "Task:\n",
        "1. Use one-hot encoding to convert the ’Embarked’ column into separate binary columns (’Embarked C’,\n",
        "’Embarked Q’, ’Embarked S’).\n",
        "2. Add these new columns to the original DataFrame.\n",
        "3. Drop the original ’Embarked’ column.\n",
        "4. Print the first few rows of the modified DataFrame to verify the changes."
      ],
      "metadata": {
        "id": "b3vDO_n1IMbz"
      }
    },
    {
      "cell_type": "code",
      "source": [
        "# Perform one-hot encoding on the 'Embarked' column\n",
        "df_encoded = pd.get_dummies(df['Embarked'], prefix='Embarked')\n",
        "\n",
        "# Add the new columns to the original DataFrame\n",
        "df = pd.concat([df, df_encoded], axis=1)\n",
        "\n",
        "# Drop the original 'Embarked' column\n",
        "df = df.drop('Embarked', axis=1)\n",
        "\n",
        "# Print the first few rows of the modified DataFrame\n",
        "print(df.head())"
      ],
      "metadata": {
        "colab": {
          "base_uri": "https://localhost:8080/"
        },
        "id": "S5-HwX8wIPyv",
        "outputId": "2697b0da-375d-4e53-c59f-9d913ba57595"
      },
      "execution_count": 31,
      "outputs": [
        {
          "output_type": "stream",
          "name": "stdout",
          "text": [
            "   PassengerId  Survived  Pclass  \\\n",
            "0            1         0       3   \n",
            "1            2         1       1   \n",
            "2            3         1       3   \n",
            "3            4         1       1   \n",
            "4            5         0       3   \n",
            "\n",
            "                                                Name     Sex   Age  SibSp  \\\n",
            "0                            Braund, Mr. Owen Harris    male  22.0      1   \n",
            "1  Cumings, Mrs. John Bradley (Florence Briggs Th...  female  38.0      1   \n",
            "2                             Heikkinen, Miss. Laina  female  26.0      0   \n",
            "3       Futrelle, Mrs. Jacques Heath (Lily May Peel)  female  35.0      1   \n",
            "4                           Allen, Mr. William Henry    male  35.0      0   \n",
            "\n",
            "   Parch            Ticket     Fare Cabin  Embarked_Cherbourg  \\\n",
            "0      0         A/5 21171   7.2500   NaN               False   \n",
            "1      0          PC 17599  71.2833   C85                True   \n",
            "2      0  STON/O2. 3101282   7.9250   NaN               False   \n",
            "3      0            113803  53.1000  C123               False   \n",
            "4      0            373450   8.0500   NaN               False   \n",
            "\n",
            "   Embarked_Queenstown  Embarked_Southampton  \n",
            "0                False                  True  \n",
            "1                False                 False  \n",
            "2                False                  True  \n",
            "3                False                  True  \n",
            "4                False                  True  \n"
          ]
        }
      ]
    },
    {
      "cell_type": "code",
      "source": [
        "mean_survival_by_gender = df.groupby('Sex')['Survived'].mean()\n",
        "print(f\"Mean survival rate by gender:\\n{mean_survival_by_gender}\")\n",
        "\n",
        "# Bar plot to show the mean survival rate by gender\n",
        "plt.figure(figsize=(6, 4))\n",
        "plt.bar(mean_survival_by_gender.index, mean_survival_by_gender.values, color=['blue', 'green'])\n",
        "plt.title('Mean Survival Rate by Gender')\n",
        "plt.xlabel('Gender')\n",
        "plt.ylabel('Mean Survival Rate')\n",
        "plt.show()"
      ],
      "metadata": {
        "colab": {
          "base_uri": "https://localhost:8080/",
          "height": 501
        },
        "id": "xqSfnTiML5nw",
        "outputId": "01c5a5e5-4e2c-4b9a-9fbe-61c3e28c8b35"
      },
      "execution_count": 52,
      "outputs": [
        {
          "output_type": "stream",
          "name": "stdout",
          "text": [
            "Mean survival rate by gender:\n",
            "Sex\n",
            "female    0.742038\n",
            "male      0.188908\n",
            "Name: Survived, dtype: float64\n"
          ]
        },
        {
          "output_type": "display_data",
          "data": {
            "text/plain": [
              "<Figure size 600x400 with 1 Axes>"
            ],
            "image/png": "[encoded data removed]"
          },
          "metadata": {}
        }
      ]
    },
    {
      "cell_type": "code",
      "source": [
        "print(df.columns)\n",
        "\n",
        "# Create a new column 'Embarked' based on the binary columns\n",
        "df['Embarked'] = df[['Embarked_Cherbourg', 'Embarked_Queenstown', 'Embarked_Southampton']].idxmax(axis=1).str.replace('Embarked_', '')\n",
        "\n",
        "# Now, calculate the mean survival rate by gender and embarkation port\n",
        "mean_survival_by_gender_and_embarked = df.groupby(['Sex', 'Embarked'])['Survived'].mean().unstack()\n",
        "print(f\"Mean survival rate by gender and embarkation port:\\n{mean_survival_by_gender_and_embarked}\")\n",
        "\n",
        "# Bar plot to show the mean survival rate by gender and embarkation port\n",
        "mean_survival_by_gender_and_embarked.plot(kind='bar', figsize=(8, 6), color=['blue', 'pink', 'lightgreen'])\n",
        "plt.title('Mean Survival Rate by Gender and Embarkation Port')\n",
        "plt.xlabel('Gender')\n",
        "plt.ylabel('Mean Survival Rate')\n",
        "plt.xticks(rotation=0)  # Rotate x-axis labels to make them readable\n",
        "plt.legend(title='Embarked', labels=['Cherbourg (C)', 'Queenstown (Q)', 'Southampton (S)'])\n",
        "plt.show()\n"
      ],
      "metadata": {
        "colab": {
          "base_uri": "https://localhost:8080/",
          "height": 747
        },
        "id": "ZVB_askpPHs6",
        "outputId": "3a426885-1d8d-4aed-925a-b89b993eb720"
      },
      "execution_count": 59,
      "outputs": [
        {
          "output_type": "stream",
          "name": "stdout",
          "text": [
            "Index(['PassengerId', 'Survived', 'Pclass', 'Name', 'Sex', 'Age', 'SibSp',\n",
            "       'Parch', 'Ticket', 'Fare', 'Cabin', 'Embarked_Cherbourg',\n",
            "       'Embarked_Queenstown', 'Embarked_Southampton'],\n",
            "      dtype='object')\n",
            "Mean survival rate by gender and embarkation port:\n",
            "Embarked  Cherbourg  Queenstown  Southampton\n",
            "Sex                                         \n",
            "female     0.880000    0.750000     0.689655\n",
            "male       0.305263    0.073171     0.174603\n"
          ]
        },
        {
          "output_type": "display_data",
          "data": {
            "text/plain": [
              "<Figure size 800x600 with 1 Axes>"
            ],
            "image/png": "[encoded data removed]"
          },
          "metadata": {}
        }
      ]
    },
    {
      "cell_type": "code",
      "source": [
        "age_quantiles = pd.qcut(df['Age'], 5, labels=['Q1', 'Q2', 'Q3', 'Q4', 'Q5'])\n",
        "df['AgeGroup'] = age_quantiles\n",
        "\n",
        "mean_survival_by_class_and_age = df.groupby(['Pclass', 'AgeGroup'], observed=False)['Survived'].mean().unstack()\n",
        "\n",
        "print(f\"Mean survival rate by Pclass and Age Group:\\n{mean_survival_by_class_and_age}\")\n",
        "\n",
        "# Plot the mean survival rate by Pclass and Age Group\n",
        "mean_survival_by_class_and_age.plot(kind='bar', figsize=(10, 6), color=['blue', 'orange', 'green', 'red', 'purple'])\n",
        "plt.title('Mean Survival Rate by Passenger Class and Age Group')\n",
        "plt.xlabel('Passenger Class')\n",
        "plt.ylabel('Mean Survival Rate')\n",
        "plt.xticks(rotation=0)  # Rotate x-axis labels for better readability\n",
        "plt.legend(title='Age Group', loc='upper left', labels=['Q1', 'Q2', 'Q3', 'Q4', 'Q5'])\n",
        "plt.show()"
      ],
      "metadata": {
        "colab": {
          "base_uri": "https://localhost:8080/",
          "height": 538
        },
        "id": "LN7BciFiQPYu",
        "outputId": "50aaa9f1-7cdd-439f-a488-4cc0580d8dc7"
      },
      "execution_count": 60,
      "outputs": [
        {
          "output_type": "stream",
          "name": "stdout",
          "text": [
            "Mean survival rate by Pclass and Age Group:\n",
            "AgeGroup        Q1        Q2        Q3        Q4        Q5\n",
            "Pclass                                                    \n",
            "1         0.809524  0.761905  0.666667  0.777778  0.506667\n",
            "2         0.742857  0.400000  0.416667  0.461538  0.363636\n",
            "3         0.333333  0.197674  0.283582  0.166667  0.088235\n"
          ]
        },
        {
          "output_type": "display_data",
          "data": {
            "text/plain": [
              "<Figure size 1000x600 with 1 Axes>"
            ],
            "image/png": "[encoded data removed]"
          },
          "metadata": {}
        }
      ]
    }
  ]
}